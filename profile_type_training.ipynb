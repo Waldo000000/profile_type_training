{
 "cells": [
  {
   "cell_type": "markdown",
   "metadata": {},
   "source": [
    "# Load data"
   ]
  },
  {
   "cell_type": "code",
   "execution_count": 1,
   "metadata": {
    "scrolled": true
   },
   "outputs": [
    {
     "name": "stdout",
     "output_type": "stream",
     "text": [
      "Read data:\n",
      " influencer        49560\n",
      "brand             27564\n",
      "news and media    13773\n",
      "Name: label, dtype: int64\n"
     ]
    }
   ],
   "source": [
    "import pandas as pd\n",
    "import numpy as np\n",
    "np.random.seed(1)\n",
    "\n",
    "# -- Load data\n",
    "# Note: provided data was neither in JSON nor JSON lines format (http://jsonlines.org/). Fixed offline with:\n",
    "# gunzip -k profile_type_training.csv.gz && cat profile_type_training.csv | sed 's#,$##' > profile_type_training.jsonl\n",
    "all_data = pd.read_json('profile_type_training.jsonl', lines=True)\n",
    "all_data = all_data[all_data.lang == 'en']\n",
    "all_data['label'] = all_data['label'].apply(lambda x: 'influencer' if x == 'celebrity' else x)\n",
    "print('Read data:\\n', all_data['label'].value_counts())"
   ]
  },
  {
   "cell_type": "markdown",
   "metadata": {},
   "source": [
    "# Create train and test sets"
   ]
  },
  {
   "cell_type": "code",
   "execution_count": 3,
   "metadata": {},
   "outputs": [
    {
     "name": "stdout",
     "output_type": "stream",
     "text": [
      "Train samples: 72717\n",
      "Test samples: 18180\n"
     ]
    }
   ],
   "source": [
    "from sklearn.model_selection import train_test_split\n",
    "X_train, X_test, y_train, y_test = train_test_split(\n",
    "    all_data.loc[:, ['username', 'name', 'bio', 'follower_count']], all_data.label, test_size=0.2, random_state=42)\n",
    "\n",
    "print('Train samples:', len(y_train))\n",
    "print('Test samples:', len(y_test))"
   ]
  },
  {
   "cell_type": "markdown",
   "metadata": {},
   "source": [
    "# Create text feature extraction pipeline\n",
    "Inspired by http://scikit-learn.org/stable/auto_examples/model_selection/grid_search_text_feature_extraction.html "
   ]
  },
  {
   "cell_type": "code",
   "execution_count": 6,
   "metadata": {},
   "outputs": [],
   "source": [
    "from sklearn.feature_extraction.text import CountVectorizer\n",
    "from sklearn.feature_extraction.text import TfidfTransformer\n",
    "from sklearn.linear_model import SGDClassifier\n",
    "from sklearn.model_selection import GridSearchCV\n",
    "from sklearn.calibration import CalibratedClassifierCV\n",
    "from sklearn.pipeline import Pipeline\n",
    "\n",
    "pipeline = Pipeline([\n",
    "    ('tfidf', TfidfTransformer()),\n",
    "    ('sgd', SGDClassifier(max_iter=1000, tol=1e-3))\n",
    "])\n",
    "\n",
    "parameters = {\n",
    "    'vect__max_df': (0.25, 0.5, 0.75, 1.0),\n",
    "    'vect__ngram_range': ((1, 1), (1, 2)), # unigrams or bigrams\n",
    "    'cal__base_estimator__sgd__alpha': (0.00001, 0.000001),\n",
    "    'cal__base_estimator__sgd__penalty': ('l2', 'elasticnet')\n",
    "}\n",
    "\n",
    "# Isotonic fit should be ok as we have >> 1000 samples (http://scikit-learn.org/stable/modules/generated/sklearn.calibration.CalibratedClassifierCV.html#sklearn.calibration.CalibratedClassifierCV).\n",
    "calibrated_pipeline = Pipeline([\n",
    "    ('vect', CountVectorizer()),\n",
    "    ('cal', CalibratedClassifierCV(base_estimator=pipeline, method='isotonic'))\n",
    "])\n",
    "\n",
    "grid_search = GridSearchCV(calibrated_pipeline, parameters, n_jobs=-1, verbose=1)"
   ]
  },
  {
   "cell_type": "markdown",
   "metadata": {},
   "source": [
    "# Train and calibrate classifier"
   ]
  },
  {
   "cell_type": "code",
   "execution_count": 7,
   "metadata": {},
   "outputs": [
    {
     "name": "stdout",
     "output_type": "stream",
     "text": [
      "Performing grid search...\n",
      "Fitting 3 folds for each of 32 candidates, totalling 96 fits\n"
     ]
    },
    {
     "name": "stderr",
     "output_type": "stream",
     "text": [
      "[Parallel(n_jobs=-1)]: Done  42 tasks      | elapsed:  2.8min\n",
      "[Parallel(n_jobs=-1)]: Done  96 out of  96 | elapsed:  5.9min finished\n"
     ]
    },
    {
     "name": "stdout",
     "output_type": "stream",
     "text": [
      "done in 367.485s\n",
      "\n",
      "Best score: 85.6%\n",
      "Best parameters set:\n",
      "\tcal__base_estimator__sgd__alpha: 1e-05\n",
      "\tcal__base_estimator__sgd__penalty: 'elasticnet'\n",
      "\tvect__max_df: 1.0\n",
      "\tvect__ngram_range: (1, 2)\n"
     ]
    }
   ],
   "source": [
    "from pprint import pprint\n",
    "from time import time\n",
    "import logging\n",
    "\n",
    "# Display progress logs on stdout\n",
    "logging.basicConfig(level=logging.INFO, format='%(asctime)s %(levelname)s %(message)s')\n",
    "\n",
    "print('Performing grid search...')\n",
    "t0 = time()\n",
    "grid_search.fit(X_train.bio, y_train)\n",
    "print('done in %0.3fs' % (time() - t0))\n",
    "print()\n",
    "\n",
    "print('Best score: {0:.1f}%'.format(grid_search.best_score_ * 100))\n",
    "print('Best parameters set:')\n",
    "best_parameters = grid_search.best_estimator_.get_params()\n",
    "for param_name in sorted(parameters.keys()):\n",
    "    print(\"\\t%s: %r\" % (param_name, best_parameters[param_name]))\n"
   ]
  },
  {
   "cell_type": "markdown",
   "metadata": {},
   "source": [
    "# Get best, calibrated classifier"
   ]
  },
  {
   "cell_type": "code",
   "execution_count": 9,
   "metadata": {},
   "outputs": [],
   "source": [
    "clf = grid_search.best_estimator_"
   ]
  },
  {
   "cell_type": "markdown",
   "metadata": {
    "collapsed": true
   },
   "source": [
    "# Test set scoring"
   ]
  },
  {
   "cell_type": "markdown",
   "metadata": {},
   "source": [
    "Now, we confirm that we get reasonable (80% + accuracy) using just the training set provided:"
   ]
  },
  {
   "cell_type": "code",
   "execution_count": 10,
   "metadata": {},
   "outputs": [
    {
     "name": "stdout",
     "output_type": "stream",
     "text": [
      "Accuracy: 86.5%\n"
     ]
    }
   ],
   "source": [
    "accuracy = clf.score(X_test.bio, y_test)\n",
    "print(\"Accuracy: {0:.1f}%\".format(accuracy * 100))"
   ]
  },
  {
   "cell_type": "markdown",
   "metadata": {},
   "source": [
    "# Export model"
   ]
  },
  {
   "cell_type": "code",
   "execution_count": 13,
   "metadata": {},
   "outputs": [
    {
     "data": {
      "text/plain": [
       "['clf.pkl']"
      ]
     },
     "execution_count": 13,
     "metadata": {},
     "output_type": "execute_result"
    }
   ],
   "source": [
    "from sklearn.externals import joblib\n",
    "\n",
    "joblib.dump(clf, 'clf.pkl') "
   ]
  },
  {
   "cell_type": "markdown",
   "metadata": {},
   "source": [
    "# Example inferences"
   ]
  },
  {
   "cell_type": "markdown",
   "metadata": {},
   "source": [
    "Just for demonstration, import the model (as will be done in the API), then predict some categories from some of the bios in the test set."
   ]
  },
  {
   "cell_type": "code",
   "execution_count": 92,
   "metadata": {},
   "outputs": [
    {
     "data": {
      "text/html": [
       "<style  type=\"text/css\" >\n",
       "</style>  \n",
       "<table id=\"T_87922d3c_195b_11e8_bf6d_b808cf36916e\" > \n",
       "<thead>    <tr> \n",
       "        <th class=\"blank level0\" ></th> \n",
       "        <th class=\"col_heading level0 col0\" >brand</th> \n",
       "        <th class=\"col_heading level0 col1\" >influencer</th> \n",
       "        <th class=\"col_heading level0 col2\" >news and media</th> \n",
       "        <th class=\"col_heading level0 col3\" >label</th> \n",
       "        <th class=\"col_heading level0 col4\" >username</th> \n",
       "        <th class=\"col_heading level0 col5\" >bio</th> \n",
       "    </tr></thead> \n",
       "<tbody>    <tr> \n",
       "        <th id=\"T_87922d3c_195b_11e8_bf6d_b808cf36916elevel0_row0\" class=\"row_heading level0 row0\" >49666</th> \n",
       "        <td id=\"T_87922d3c_195b_11e8_bf6d_b808cf36916erow0_col0\" class=\"data row0 col0\" >97%</td> \n",
       "        <td id=\"T_87922d3c_195b_11e8_bf6d_b808cf36916erow0_col1\" class=\"data row0 col1\" >0%</td> \n",
       "        <td id=\"T_87922d3c_195b_11e8_bf6d_b808cf36916erow0_col2\" class=\"data row0 col2\" >3%</td> \n",
       "        <td id=\"T_87922d3c_195b_11e8_bf6d_b808cf36916erow0_col3\" class=\"data row0 col3\" >brand</td> \n",
       "        <td id=\"T_87922d3c_195b_11e8_bf6d_b808cf36916erow0_col4\" class=\"data row0 col4\" >BirdsongGregory</td> \n",
       "        <td id=\"T_87922d3c_195b_11e8_bf6d_b808cf36916erow0_col5\" class=\"data row0 col5\" >As a retail and B2B branding and marketing agency, we deliver tangible results for regional, national, and global clients. 704.332.2299</td> \n",
       "    </tr>    <tr> \n",
       "        <th id=\"T_87922d3c_195b_11e8_bf6d_b808cf36916elevel0_row1\" class=\"row_heading level0 row1\" >104651</th> \n",
       "        <td id=\"T_87922d3c_195b_11e8_bf6d_b808cf36916erow1_col0\" class=\"data row1 col0\" >3%</td> \n",
       "        <td id=\"T_87922d3c_195b_11e8_bf6d_b808cf36916erow1_col1\" class=\"data row1 col1\" >96%</td> \n",
       "        <td id=\"T_87922d3c_195b_11e8_bf6d_b808cf36916erow1_col2\" class=\"data row1 col2\" >1%</td> \n",
       "        <td id=\"T_87922d3c_195b_11e8_bf6d_b808cf36916erow1_col3\" class=\"data row1 col3\" >influencer</td> \n",
       "        <td id=\"T_87922d3c_195b_11e8_bf6d_b808cf36916erow1_col4\" class=\"data row1 col4\" >conradcoates</td> \n",
       "        <td id=\"T_87922d3c_195b_11e8_bf6d_b808cf36916erow1_col5\" class=\"data row1 col5\" >Actor and curious, evolving human being. https://t.co/WPPIn2DpX9 #Defiance</td> \n",
       "    </tr>    <tr> \n",
       "        <th id=\"T_87922d3c_195b_11e8_bf6d_b808cf36916elevel0_row2\" class=\"row_heading level0 row2\" >50434</th> \n",
       "        <td id=\"T_87922d3c_195b_11e8_bf6d_b808cf36916erow2_col0\" class=\"data row2 col0\" >0%</td> \n",
       "        <td id=\"T_87922d3c_195b_11e8_bf6d_b808cf36916erow2_col1\" class=\"data row2 col1\" >100%</td> \n",
       "        <td id=\"T_87922d3c_195b_11e8_bf6d_b808cf36916erow2_col2\" class=\"data row2 col2\" >0%</td> \n",
       "        <td id=\"T_87922d3c_195b_11e8_bf6d_b808cf36916erow2_col3\" class=\"data row2 col3\" >influencer</td> \n",
       "        <td id=\"T_87922d3c_195b_11e8_bf6d_b808cf36916erow2_col4\" class=\"data row2 col4\" >TipsyHeelz</td> \n",
       "        <td id=\"T_87922d3c_195b_11e8_bf6d_b808cf36916erow2_col5\" class=\"data row2 col5\" >Blogger&Mom . Love all things Fashion and Beauty.   Blog http://www.tipsyheelz.com Jewelry\n",
       "https://zazzy.co/designer/Glammore/</td> \n",
       "    </tr>    <tr> \n",
       "        <th id=\"T_87922d3c_195b_11e8_bf6d_b808cf36916elevel0_row3\" class=\"row_heading level0 row3\" >48818</th> \n",
       "        <td id=\"T_87922d3c_195b_11e8_bf6d_b808cf36916erow3_col0\" class=\"data row3 col0\" >90%</td> \n",
       "        <td id=\"T_87922d3c_195b_11e8_bf6d_b808cf36916erow3_col1\" class=\"data row3 col1\" >1%</td> \n",
       "        <td id=\"T_87922d3c_195b_11e8_bf6d_b808cf36916erow3_col2\" class=\"data row3 col2\" >9%</td> \n",
       "        <td id=\"T_87922d3c_195b_11e8_bf6d_b808cf36916erow3_col3\" class=\"data row3 col3\" >brand</td> \n",
       "        <td id=\"T_87922d3c_195b_11e8_bf6d_b808cf36916erow3_col4\" class=\"data row3 col4\" >Colnagoworld</td> \n",
       "        <td id=\"T_87922d3c_195b_11e8_bf6d_b808cf36916erow3_col5\" class=\"data row3 col5\" >History, technology, passion : we are Colnago</td> \n",
       "    </tr>    <tr> \n",
       "        <th id=\"T_87922d3c_195b_11e8_bf6d_b808cf36916elevel0_row4\" class=\"row_heading level0 row4\" >40350</th> \n",
       "        <td id=\"T_87922d3c_195b_11e8_bf6d_b808cf36916erow4_col0\" class=\"data row4 col0\" >99%</td> \n",
       "        <td id=\"T_87922d3c_195b_11e8_bf6d_b808cf36916erow4_col1\" class=\"data row4 col1\" >0%</td> \n",
       "        <td id=\"T_87922d3c_195b_11e8_bf6d_b808cf36916erow4_col2\" class=\"data row4 col2\" >1%</td> \n",
       "        <td id=\"T_87922d3c_195b_11e8_bf6d_b808cf36916erow4_col3\" class=\"data row4 col3\" >brand</td> \n",
       "        <td id=\"T_87922d3c_195b_11e8_bf6d_b808cf36916erow4_col4\" class=\"data row4 col4\" >obelisksys</td> \n",
       "        <td id=\"T_87922d3c_195b_11e8_bf6d_b808cf36916erow4_col5\" class=\"data row4 col5\" >Official Twitter for Obelisk Systems! We are one of Australia's first space hardware startups. Developing world class products for both industry and education.</td> \n",
       "    </tr>    <tr> \n",
       "        <th id=\"T_87922d3c_195b_11e8_bf6d_b808cf36916elevel0_row5\" class=\"row_heading level0 row5\" >128998</th> \n",
       "        <td id=\"T_87922d3c_195b_11e8_bf6d_b808cf36916erow5_col0\" class=\"data row5 col0\" >2%</td> \n",
       "        <td id=\"T_87922d3c_195b_11e8_bf6d_b808cf36916erow5_col1\" class=\"data row5 col1\" >0%</td> \n",
       "        <td id=\"T_87922d3c_195b_11e8_bf6d_b808cf36916erow5_col2\" class=\"data row5 col2\" >98%</td> \n",
       "        <td id=\"T_87922d3c_195b_11e8_bf6d_b808cf36916erow5_col3\" class=\"data row5 col3\" >news and media</td> \n",
       "        <td id=\"T_87922d3c_195b_11e8_bf6d_b808cf36916erow5_col4\" class=\"data row5 col4\" >SourceMag</td> \n",
       "        <td id=\"T_87922d3c_195b_11e8_bf6d_b808cf36916erow5_col5\" class=\"data row5 col5\" >Source is Scotland's Number One student magazine, bringing you the best in careers, celebrity and student life every quarter!</td> \n",
       "    </tr>    <tr> \n",
       "        <th id=\"T_87922d3c_195b_11e8_bf6d_b808cf36916elevel0_row6\" class=\"row_heading level0 row6\" >129047</th> \n",
       "        <td id=\"T_87922d3c_195b_11e8_bf6d_b808cf36916erow6_col0\" class=\"data row6 col0\" >15%</td> \n",
       "        <td id=\"T_87922d3c_195b_11e8_bf6d_b808cf36916erow6_col1\" class=\"data row6 col1\" >0%</td> \n",
       "        <td id=\"T_87922d3c_195b_11e8_bf6d_b808cf36916erow6_col2\" class=\"data row6 col2\" >85%</td> \n",
       "        <td id=\"T_87922d3c_195b_11e8_bf6d_b808cf36916erow6_col3\" class=\"data row6 col3\" >news and media</td> \n",
       "        <td id=\"T_87922d3c_195b_11e8_bf6d_b808cf36916erow6_col4\" class=\"data row6 col4\" >theimproper</td> \n",
       "        <td id=\"T_87922d3c_195b_11e8_bf6d_b808cf36916erow6_col5\" class=\"data row6 col5\" >The Improper Bostonian is the premier entertainment and lifestyle guide for the city of Boston.</td> \n",
       "    </tr>    <tr> \n",
       "        <th id=\"T_87922d3c_195b_11e8_bf6d_b808cf36916elevel0_row7\" class=\"row_heading level0 row7\" >116910</th> \n",
       "        <td id=\"T_87922d3c_195b_11e8_bf6d_b808cf36916erow7_col0\" class=\"data row7 col0\" >0%</td> \n",
       "        <td id=\"T_87922d3c_195b_11e8_bf6d_b808cf36916erow7_col1\" class=\"data row7 col1\" >1%</td> \n",
       "        <td id=\"T_87922d3c_195b_11e8_bf6d_b808cf36916erow7_col2\" class=\"data row7 col2\" >99%</td> \n",
       "        <td id=\"T_87922d3c_195b_11e8_bf6d_b808cf36916erow7_col3\" class=\"data row7 col3\" >news and media</td> \n",
       "        <td id=\"T_87922d3c_195b_11e8_bf6d_b808cf36916erow7_col4\" class=\"data row7 col4\" >mzansimusicmag</td> \n",
       "        <td id=\"T_87922d3c_195b_11e8_bf6d_b808cf36916erow7_col5\" class=\"data row7 col5\" >South Africa's Online Hottest Music Magazine</td> \n",
       "    </tr>    <tr> \n",
       "        <th id=\"T_87922d3c_195b_11e8_bf6d_b808cf36916elevel0_row8\" class=\"row_heading level0 row8\" >68988</th> \n",
       "        <td id=\"T_87922d3c_195b_11e8_bf6d_b808cf36916erow8_col0\" class=\"data row8 col0\" >3%</td> \n",
       "        <td id=\"T_87922d3c_195b_11e8_bf6d_b808cf36916erow8_col1\" class=\"data row8 col1\" >97%</td> \n",
       "        <td id=\"T_87922d3c_195b_11e8_bf6d_b808cf36916erow8_col2\" class=\"data row8 col2\" >0%</td> \n",
       "        <td id=\"T_87922d3c_195b_11e8_bf6d_b808cf36916erow8_col3\" class=\"data row8 col3\" >influencer</td> \n",
       "        <td id=\"T_87922d3c_195b_11e8_bf6d_b808cf36916erow8_col4\" class=\"data row8 col4\" >Mommyshangout</td> \n",
       "        <td id=\"T_87922d3c_195b_11e8_bf6d_b808cf36916erow8_col5\" class=\"data row8 col5\" >#ATL #Mommy #Blogger, Marketing & Social Media Consultant who never leaves home with out her iPhone #teamIphone</td> \n",
       "    </tr>    <tr> \n",
       "        <th id=\"T_87922d3c_195b_11e8_bf6d_b808cf36916elevel0_row9\" class=\"row_heading level0 row9\" >40705</th> \n",
       "        <td id=\"T_87922d3c_195b_11e8_bf6d_b808cf36916erow9_col0\" class=\"data row9 col0\" >97%</td> \n",
       "        <td id=\"T_87922d3c_195b_11e8_bf6d_b808cf36916erow9_col1\" class=\"data row9 col1\" >0%</td> \n",
       "        <td id=\"T_87922d3c_195b_11e8_bf6d_b808cf36916erow9_col2\" class=\"data row9 col2\" >3%</td> \n",
       "        <td id=\"T_87922d3c_195b_11e8_bf6d_b808cf36916erow9_col3\" class=\"data row9 col3\" >brand</td> \n",
       "        <td id=\"T_87922d3c_195b_11e8_bf6d_b808cf36916erow9_col4\" class=\"data row9 col4\" >EUEnvironment</td> \n",
       "        <td id=\"T_87922d3c_195b_11e8_bf6d_b808cf36916erow9_col5\" class=\"data row9 col5\" >Official channel of the European Environment Agency (EEA), an agency of the European Union. We provide sound, independent information on Europe's environment.</td> \n",
       "    </tr>    <tr> \n",
       "        <th id=\"T_87922d3c_195b_11e8_bf6d_b808cf36916elevel0_row10\" class=\"row_heading level0 row10\" >42817</th> \n",
       "        <td id=\"T_87922d3c_195b_11e8_bf6d_b808cf36916erow10_col0\" class=\"data row10 col0\" >88%</td> \n",
       "        <td id=\"T_87922d3c_195b_11e8_bf6d_b808cf36916erow10_col1\" class=\"data row10 col1\" >2%</td> \n",
       "        <td id=\"T_87922d3c_195b_11e8_bf6d_b808cf36916erow10_col2\" class=\"data row10 col2\" >9%</td> \n",
       "        <td id=\"T_87922d3c_195b_11e8_bf6d_b808cf36916erow10_col3\" class=\"data row10 col3\" >brand</td> \n",
       "        <td id=\"T_87922d3c_195b_11e8_bf6d_b808cf36916erow10_col4\" class=\"data row10 col4\" >pakkbags</td> \n",
       "        <td id=\"T_87922d3c_195b_11e8_bf6d_b808cf36916erow10_col5\" class=\"data row10 col5\" >A stylish, versatile and easy access camera bag that understands the needs of modern photographers</td> \n",
       "    </tr>    <tr> \n",
       "        <th id=\"T_87922d3c_195b_11e8_bf6d_b808cf36916elevel0_row11\" class=\"row_heading level0 row11\" >74202</th> \n",
       "        <td id=\"T_87922d3c_195b_11e8_bf6d_b808cf36916erow11_col0\" class=\"data row11 col0\" >0%</td> \n",
       "        <td id=\"T_87922d3c_195b_11e8_bf6d_b808cf36916erow11_col1\" class=\"data row11 col1\" >100%</td> \n",
       "        <td id=\"T_87922d3c_195b_11e8_bf6d_b808cf36916erow11_col2\" class=\"data row11 col2\" >0%</td> \n",
       "        <td id=\"T_87922d3c_195b_11e8_bf6d_b808cf36916erow11_col3\" class=\"data row11 col3\" >influencer</td> \n",
       "        <td id=\"T_87922d3c_195b_11e8_bf6d_b808cf36916erow11_col4\" class=\"data row11 col4\" >cristian_uomo</td> \n",
       "        <td id=\"T_87922d3c_195b_11e8_bf6d_b808cf36916erow11_col5\" class=\"data row11 col5\" >Menstyle-Lifestyle & Fashion blogger | Bearded Style-Longhair ✖Model / DJ ✖️ Snapchat: cristian_uomo uomoedonnalove@gmail.com</td> \n",
       "    </tr>    <tr> \n",
       "        <th id=\"T_87922d3c_195b_11e8_bf6d_b808cf36916elevel0_row12\" class=\"row_heading level0 row12\" >128162</th> \n",
       "        <td id=\"T_87922d3c_195b_11e8_bf6d_b808cf36916erow12_col0\" class=\"data row12 col0\" >1%</td> \n",
       "        <td id=\"T_87922d3c_195b_11e8_bf6d_b808cf36916erow12_col1\" class=\"data row12 col1\" >29%</td> \n",
       "        <td id=\"T_87922d3c_195b_11e8_bf6d_b808cf36916erow12_col2\" class=\"data row12 col2\" >71%</td> \n",
       "        <td id=\"T_87922d3c_195b_11e8_bf6d_b808cf36916erow12_col3\" class=\"data row12 col3\" >news and media</td> \n",
       "        <td id=\"T_87922d3c_195b_11e8_bf6d_b808cf36916erow12_col4\" class=\"data row12 col4\" >urbanr3volution</td> \n",
       "        <td id=\"T_87922d3c_195b_11e8_bf6d_b808cf36916erow12_col5\" class=\"data row12 col5\" >#UrbanRevolutionMag [E-Zine] #UrbanRevolutionLive [Events]  #UrbanR3volution.com [Website/Blog]   Contact: info@urbanr3volution.com</td> \n",
       "    </tr>    <tr> \n",
       "        <th id=\"T_87922d3c_195b_11e8_bf6d_b808cf36916elevel0_row13\" class=\"row_heading level0 row13\" >5386</th> \n",
       "        <td id=\"T_87922d3c_195b_11e8_bf6d_b808cf36916erow13_col0\" class=\"data row13 col0\" >91%</td> \n",
       "        <td id=\"T_87922d3c_195b_11e8_bf6d_b808cf36916erow13_col1\" class=\"data row13 col1\" >7%</td> \n",
       "        <td id=\"T_87922d3c_195b_11e8_bf6d_b808cf36916erow13_col2\" class=\"data row13 col2\" >1%</td> \n",
       "        <td id=\"T_87922d3c_195b_11e8_bf6d_b808cf36916erow13_col3\" class=\"data row13 col3\" >influencer</td> \n",
       "        <td id=\"T_87922d3c_195b_11e8_bf6d_b808cf36916erow13_col4\" class=\"data row13 col4\" >SuzanneSomers</td> \n",
       "        <td id=\"T_87922d3c_195b_11e8_bf6d_b808cf36916erow13_col5\" class=\"data row13 col5\" >The Official Suzanne Somers Twitter Page!</td> \n",
       "    </tr>    <tr> \n",
       "        <th id=\"T_87922d3c_195b_11e8_bf6d_b808cf36916elevel0_row14\" class=\"row_heading level0 row14\" >127296</th> \n",
       "        <td id=\"T_87922d3c_195b_11e8_bf6d_b808cf36916erow14_col0\" class=\"data row14 col0\" >0%</td> \n",
       "        <td id=\"T_87922d3c_195b_11e8_bf6d_b808cf36916erow14_col1\" class=\"data row14 col1\" >46%</td> \n",
       "        <td id=\"T_87922d3c_195b_11e8_bf6d_b808cf36916erow14_col2\" class=\"data row14 col2\" >54%</td> \n",
       "        <td id=\"T_87922d3c_195b_11e8_bf6d_b808cf36916erow14_col3\" class=\"data row14 col3\" >news and media</td> \n",
       "        <td id=\"T_87922d3c_195b_11e8_bf6d_b808cf36916erow14_col4\" class=\"data row14 col4\" >C_DIG</td> \n",
       "        <td id=\"T_87922d3c_195b_11e8_bf6d_b808cf36916erow14_col5\" class=\"data row14 col5\" >@CTVCalgary Sr News Anchor. Event host. Fit lifestyle. Marathoner. YYZ born. Diggin' YYC. VERIFIED acct @CTVC_Dig\n",
       "IG: @Little_Miller   My opinions alone</td> \n",
       "    </tr>    <tr> \n",
       "        <th id=\"T_87922d3c_195b_11e8_bf6d_b808cf36916elevel0_row15\" class=\"row_heading level0 row15\" >59957</th> \n",
       "        <td id=\"T_87922d3c_195b_11e8_bf6d_b808cf36916erow15_col0\" class=\"data row15 col0\" >3%</td> \n",
       "        <td id=\"T_87922d3c_195b_11e8_bf6d_b808cf36916erow15_col1\" class=\"data row15 col1\" >97%</td> \n",
       "        <td id=\"T_87922d3c_195b_11e8_bf6d_b808cf36916erow15_col2\" class=\"data row15 col2\" >0%</td> \n",
       "        <td id=\"T_87922d3c_195b_11e8_bf6d_b808cf36916erow15_col3\" class=\"data row15 col3\" >influencer</td> \n",
       "        <td id=\"T_87922d3c_195b_11e8_bf6d_b808cf36916erow15_col4\" class=\"data row15 col4\" >KirstieTravels</td> \n",
       "        <td id=\"T_87922d3c_195b_11e8_bf6d_b808cf36916erow15_col5\" class=\"data row15 col5\" >Travel blogger at http://vengavalevamos.com. California bred. Former expat in Sydney, Australia & auxiliar in Sevilla & Madrid, Spain. Now on a RTW trip.</td> \n",
       "    </tr>    <tr> \n",
       "        <th id=\"T_87922d3c_195b_11e8_bf6d_b808cf36916elevel0_row16\" class=\"row_heading level0 row16\" >8511</th> \n",
       "        <td id=\"T_87922d3c_195b_11e8_bf6d_b808cf36916erow16_col0\" class=\"data row16 col0\" >5%</td> \n",
       "        <td id=\"T_87922d3c_195b_11e8_bf6d_b808cf36916erow16_col1\" class=\"data row16 col1\" >90%</td> \n",
       "        <td id=\"T_87922d3c_195b_11e8_bf6d_b808cf36916erow16_col2\" class=\"data row16 col2\" >4%</td> \n",
       "        <td id=\"T_87922d3c_195b_11e8_bf6d_b808cf36916erow16_col3\" class=\"data row16 col3\" >influencer</td> \n",
       "        <td id=\"T_87922d3c_195b_11e8_bf6d_b808cf36916erow16_col4\" class=\"data row16 col4\" >MStrooo6</td> \n",
       "        <td id=\"T_87922d3c_195b_11e8_bf6d_b808cf36916erow16_col5\" class=\"data row16 col5\" >Doing everything they said I couldn't. With a smile and chip on my shoulder. Graduate of @DukeU! #HDMH @bluejays @nike @biosteelsports @jumpman23 @hdmhapparel</td> \n",
       "    </tr>    <tr> \n",
       "        <th id=\"T_87922d3c_195b_11e8_bf6d_b808cf36916elevel0_row17\" class=\"row_heading level0 row17\" >28975</th> \n",
       "        <td id=\"T_87922d3c_195b_11e8_bf6d_b808cf36916erow17_col0\" class=\"data row17 col0\" >79%</td> \n",
       "        <td id=\"T_87922d3c_195b_11e8_bf6d_b808cf36916erow17_col1\" class=\"data row17 col1\" >20%</td> \n",
       "        <td id=\"T_87922d3c_195b_11e8_bf6d_b808cf36916erow17_col2\" class=\"data row17 col2\" >0%</td> \n",
       "        <td id=\"T_87922d3c_195b_11e8_bf6d_b808cf36916erow17_col3\" class=\"data row17 col3\" >brand</td> \n",
       "        <td id=\"T_87922d3c_195b_11e8_bf6d_b808cf36916erow17_col4\" class=\"data row17 col4\" >ZEA_9</td> \n",
       "        <td id=\"T_87922d3c_195b_11e8_bf6d_b808cf36916erow17_col5\" class=\"data row17 col5\" >ZE:A Official Twitter.</td> \n",
       "    </tr>    <tr> \n",
       "        <th id=\"T_87922d3c_195b_11e8_bf6d_b808cf36916elevel0_row18\" class=\"row_heading level0 row18\" >115394</th> \n",
       "        <td id=\"T_87922d3c_195b_11e8_bf6d_b808cf36916erow18_col0\" class=\"data row18 col0\" >0%</td> \n",
       "        <td id=\"T_87922d3c_195b_11e8_bf6d_b808cf36916erow18_col1\" class=\"data row18 col1\" >6%</td> \n",
       "        <td id=\"T_87922d3c_195b_11e8_bf6d_b808cf36916erow18_col2\" class=\"data row18 col2\" >94%</td> \n",
       "        <td id=\"T_87922d3c_195b_11e8_bf6d_b808cf36916erow18_col3\" class=\"data row18 col3\" >news and media</td> \n",
       "        <td id=\"T_87922d3c_195b_11e8_bf6d_b808cf36916erow18_col4\" class=\"data row18 col4\" >tomtommag</td> \n",
       "        <td id=\"T_87922d3c_195b_11e8_bf6d_b808cf36916erow18_col5\" class=\"data row18 col5\" >Tom Tom Magazine: Drummers, Music, Feminism, Politics. http://www.tomtommag.com</td> \n",
       "    </tr>    <tr> \n",
       "        <th id=\"T_87922d3c_195b_11e8_bf6d_b808cf36916elevel0_row19\" class=\"row_heading level0 row19\" >29085</th> \n",
       "        <td id=\"T_87922d3c_195b_11e8_bf6d_b808cf36916erow19_col0\" class=\"data row19 col0\" >90%</td> \n",
       "        <td id=\"T_87922d3c_195b_11e8_bf6d_b808cf36916erow19_col1\" class=\"data row19 col1\" >3%</td> \n",
       "        <td id=\"T_87922d3c_195b_11e8_bf6d_b808cf36916erow19_col2\" class=\"data row19 col2\" >7%</td> \n",
       "        <td id=\"T_87922d3c_195b_11e8_bf6d_b808cf36916erow19_col3\" class=\"data row19 col3\" >brand</td> \n",
       "        <td id=\"T_87922d3c_195b_11e8_bf6d_b808cf36916erow19_col4\" class=\"data row19 col4\" >DormCo</td> \n",
       "        <td id=\"T_87922d3c_195b_11e8_bf6d_b808cf36916erow19_col5\" class=\"data row19 col5\" >http://DormCo.com has the largest selection of college dorm stuff. Cheap $2.95 Shipping on your entire order of Dorm Essentials.</td> \n",
       "    </tr></tbody> \n",
       "</table> "
      ],
      "text/plain": [
       "<pandas.io.formats.style.Styler at 0x7f463ea4f240>"
      ]
     },
     "execution_count": 92,
     "metadata": {},
     "output_type": "execute_result"
    }
   ],
   "source": [
    "loadedClf = joblib.load('clf.pkl') \n",
    "\n",
    "predictedProbabilities = loadedClf.predict_proba(X_test['bio'])\n",
    "results = pd.DataFrame(predictedProbabilities, columns=loadedClf.classes_, index=X_test.index)\n",
    "results = pd.concat([results, y_test, X_test.username, X_test.bio], axis=1)\n",
    "results.head(20).style.format({\n",
    "    'influencer': '{:.0%}',\n",
    "    'brand': '{:.0%}',\n",
    "    'news and media': '{:.0%}'\n",
    "})"
   ]
  }
 ],
 "metadata": {
  "anaconda-cloud": {},
  "kernelspec": {
   "display_name": "Python 3",
   "language": "python",
   "name": "python3"
  },
  "language_info": {
   "codemirror_mode": {
    "name": "ipython",
    "version": 3
   },
   "file_extension": ".py",
   "mimetype": "text/x-python",
   "name": "python",
   "nbconvert_exporter": "python",
   "pygments_lexer": "ipython3",
   "version": "3.6.4"
  }
 },
 "nbformat": 4,
 "nbformat_minor": 2
}
